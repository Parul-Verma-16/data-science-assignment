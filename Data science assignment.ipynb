{
 "cells": [
  {
   "cell_type": "markdown",
   "id": "69d822ae",
   "metadata": {},
   "source": [
    "## 1. Write a Python program to reverse a string without using any built-in string reversal functions."
   ]
  },
  {
   "cell_type": "code",
   "execution_count": 1,
   "id": "d54b13df",
   "metadata": {},
   "outputs": [
    {
     "name": "stdout",
     "output_type": "stream",
     "text": [
      "Enter a string: ParulVerma\n",
      "Reversed string: amreVluraP\n"
     ]
    }
   ],
   "source": [
    "def reverse_string(string):\n",
    "    reversed_string = \"\"\n",
    "    for i in range(len(string) - 1, -1, -1):\n",
    "        reversed_string += string[i]\n",
    "    return reversed_string\n",
    "\n",
    "# Example usage\n",
    "input_string = input(\"Enter a string: \")\n",
    "reversed_string = reverse_string(input_string)\n",
    "print(\"Reversed string:\", reversed_string)"
   ]
  },
  {
   "cell_type": "markdown",
   "id": "39086045",
   "metadata": {},
   "source": [
    "## 2. Implement a function to check if a given string is a palindrome."
   ]
  },
  {
   "cell_type": "code",
   "execution_count": 2,
   "id": "6da50130",
   "metadata": {},
   "outputs": [
    {
     "name": "stdout",
     "output_type": "stream",
     "text": [
      "Enter a string: ParulVerma\n",
      "The string is not a palindrome.\n"
     ]
    }
   ],
   "source": [
    "def is_palindrome(string):\n",
    "    # Remove any non-alphanumeric characters and convert to lowercase\n",
    "    cleaned_string = ''.join(char.lower() for char in string if char.isalnum())\n",
    "\n",
    "    # Compare the cleaned string with its reversed version\n",
    "    return cleaned_string == cleaned_string[::-1]\n",
    "\n",
    "# Example usage\n",
    "input_string = input(\"Enter a string: \")\n",
    "if is_palindrome(input_string):\n",
    "    print(\"The string is a palindrome.\")\n",
    "else:\n",
    "    print(\"The string is not a palindrome.\")"
   ]
  },
  {
   "cell_type": "markdown",
   "id": "1197114f",
   "metadata": {},
   "source": [
    "## 3. Write a program to find the largest element in a given list."
   ]
  },
  {
   "cell_type": "code",
   "execution_count": 3,
   "id": "df803c1c",
   "metadata": {},
   "outputs": [
    {
     "name": "stdout",
     "output_type": "stream",
     "text": [
      "The largest element in the list is: 15\n"
     ]
    }
   ],
   "source": [
    "def find_largest_element(lst):\n",
    "    if not lst:\n",
    "        return None  # Return None if the list is empty\n",
    "\n",
    "    largest = lst[0]  # Assume the first element is the largest\n",
    "\n",
    "    for num in lst:\n",
    "        if num > largest:\n",
    "            largest = num\n",
    "\n",
    "    return largest\n",
    "\n",
    "# Example usage\n",
    "input_list = [7, 15, 3, 9, 2]\n",
    "largest_element = find_largest_element(input_list)\n",
    "print(\"The largest element in the list is:\", largest_element)"
   ]
  },
  {
   "cell_type": "markdown",
   "id": "0b6e472f",
   "metadata": {},
   "source": [
    "## 4. Implement a function to count the occurrence of each element in a list."
   ]
  },
  {
   "cell_type": "code",
   "execution_count": 4,
   "id": "e2a06c43",
   "metadata": {},
   "outputs": [
    {
     "name": "stdout",
     "output_type": "stream",
     "text": [
      "Element Occurrences:\n",
      "1: 2\n",
      "2: 3\n",
      "3: 2\n",
      "4: 3\n"
     ]
    }
   ],
   "source": [
    "def count_occurrences(lst):\n",
    "    occurrences = {}\n",
    "    for element in lst:\n",
    "        if element in occurrences:\n",
    "            occurrences[element] += 1\n",
    "        else:\n",
    "            occurrences[element] = 1\n",
    "    return occurrences\n",
    "\n",
    "# Example usage\n",
    "input_list = [1, 2, 3, 2, 4, 1, 3, 4, 2, 4]\n",
    "occurrences = count_occurrences(input_list)\n",
    "print(\"Element Occurrences:\")\n",
    "for element, count in occurrences.items():\n",
    "    print(f\"{element}: {count}\")"
   ]
  },
  {
   "cell_type": "markdown",
   "id": "ef22e983",
   "metadata": {},
   "source": [
    "## 5. Write a Python program to find the second largest number in a list."
   ]
  },
  {
   "cell_type": "code",
   "execution_count": 5,
   "id": "551b386b",
   "metadata": {},
   "outputs": [
    {
     "name": "stdout",
     "output_type": "stream",
     "text": [
      "The second largest number in the list is: 9\n"
     ]
    }
   ],
   "source": [
    "def find_second_largest(lst):\n",
    "    if len(lst) < 2:\n",
    "        return None  # Return None if the list has less than two elements\n",
    "\n",
    "    largest = max(lst[0], lst[1])\n",
    "    second_largest = min(lst[0], lst[1])\n",
    "\n",
    "    for num in lst[2:]:\n",
    "        if num > largest:\n",
    "            second_largest = largest\n",
    "            largest = num\n",
    "        elif num > second_largest:\n",
    "            second_largest = num\n",
    "\n",
    "    return second_largest\n",
    "\n",
    "# Example usage\n",
    "input_list = [7, 15, 3, 9, 2]\n",
    "second_largest = find_second_largest(input_list)\n",
    "if second_largest is not None:\n",
    "    print(\"The second largest number in the list is:\", second_largest)\n",
    "else:\n",
    "    print(\"The list does not have a second largest number.\")"
   ]
  },
  {
   "cell_type": "markdown",
   "id": "5d26f1ce",
   "metadata": {},
   "source": [
    "## 6. Implement a function to remove duplicate elements from a list."
   ]
  },
  {
   "cell_type": "code",
   "execution_count": 6,
   "id": "bc187af2",
   "metadata": {},
   "outputs": [
    {
     "name": "stdout",
     "output_type": "stream",
     "text": [
      "List with duplicate elements removed: [1, 2, 3, 4]\n"
     ]
    }
   ],
   "source": [
    "def remove_duplicates(lst):\n",
    "    unique_elements = []\n",
    "    for element in lst:\n",
    "        if element not in unique_elements:\n",
    "            unique_elements.append(element)\n",
    "    return unique_elements\n",
    "\n",
    "# Example usage\n",
    "input_list = [1, 2, 3, 2, 4, 1, 3, 4, 2, 4]\n",
    "unique_list = remove_duplicates(input_list)\n",
    "print(\"List with duplicate elements removed:\", unique_list)"
   ]
  },
  {
   "cell_type": "markdown",
   "id": "ce292222",
   "metadata": {},
   "source": [
    "## 7. Write a program to calculate the factorial of a given number."
   ]
  },
  {
   "cell_type": "code",
   "execution_count": 7,
   "id": "ba2130cc",
   "metadata": {},
   "outputs": [
    {
     "name": "stdout",
     "output_type": "stream",
     "text": [
      "Enter a number: 16\n",
      "Factorial of 16 is: 20922789888000\n"
     ]
    }
   ],
   "source": [
    "def calculate_factorial(num):\n",
    "    if num < 0:\n",
    "        return None  # Return None for negative numbers\n",
    "    elif num == 0:\n",
    "        return 1  # Factorial of 0 is 1\n",
    "    else:\n",
    "        factorial = 1\n",
    "        for i in range(1, num + 1):\n",
    "            factorial *= i\n",
    "        return factorial\n",
    "\n",
    "# Example usage\n",
    "input_number = int(input(\"Enter a number: \"))\n",
    "factorial = calculate_factorial(input_number)\n",
    "if factorial is not None:\n",
    "    print(\"Factorial of\", input_number, \"is:\", factorial)\n",
    "else:\n",
    "    print(\"Factorial cannot be calculated for negative numbers.\")"
   ]
  },
  {
   "cell_type": "markdown",
   "id": "968e78bd",
   "metadata": {},
   "source": [
    "## 8. Implement a function to check if a given number is prime."
   ]
  },
  {
   "cell_type": "code",
   "execution_count": 8,
   "id": "0cf92453",
   "metadata": {},
   "outputs": [
    {
     "name": "stdout",
     "output_type": "stream",
     "text": [
      "Enter a number: 27\n",
      "27 is not a prime number.\n"
     ]
    }
   ],
   "source": [
    "def is_prime(number):\n",
    "    if number < 2:\n",
    "        return False  # Numbers less than 2 are not prime\n",
    "\n",
    "    for divisor in range(2, int(number**0.5) + 1):\n",
    "        if number % divisor == 0:\n",
    "            return False  # Divisible by a divisor, not prime\n",
    "\n",
    "    return True  # No divisors found, prime number\n",
    "\n",
    "# Example usage\n",
    "input_number = int(input(\"Enter a number: \"))\n",
    "if is_prime(input_number):\n",
    "    print(input_number, \"is a prime number.\")\n",
    "else:\n",
    "    print(input_number, \"is not a prime number.\")"
   ]
  },
  {
   "cell_type": "markdown",
   "id": "ab713e37",
   "metadata": {},
   "source": [
    "## 9. Write a Python program to sort a list of integers in ascending order."
   ]
  },
  {
   "cell_type": "code",
   "execution_count": 9,
   "id": "7d0e2195",
   "metadata": {},
   "outputs": [
    {
     "name": "stdout",
     "output_type": "stream",
     "text": [
      "Sorted list in ascending order: [1, 2, 5, 7, 9]\n"
     ]
    }
   ],
   "source": [
    "def sort_list_ascending(lst):\n",
    "    return sorted(lst)\n",
    "\n",
    "# Example usage\n",
    "input_list = [7, 2, 9, 1, 5]\n",
    "sorted_list = sort_list_ascending(input_list)\n",
    "print(\"Sorted list in ascending order:\", sorted_list)"
   ]
  },
  {
   "cell_type": "markdown",
   "id": "9ea9c8b6",
   "metadata": {},
   "source": [
    "## 10. Implement a function to find the sum of all numbers in a list."
   ]
  },
  {
   "cell_type": "code",
   "execution_count": 10,
   "id": "bf38dc2b",
   "metadata": {},
   "outputs": [
    {
     "name": "stdout",
     "output_type": "stream",
     "text": [
      "Sum of numbers: 15\n"
     ]
    }
   ],
   "source": [
    "def calculate_sum(lst):\n",
    "    total = 0\n",
    "    for num in lst:\n",
    "        total += num\n",
    "    return total\n",
    "\n",
    "# Example usage\n",
    "input_list = [1, 2, 3, 4, 5]\n",
    "sum_of_numbers = calculate_sum(input_list)\n",
    "print(\"Sum of numbers:\", sum_of_numbers)"
   ]
  },
  {
   "cell_type": "markdown",
   "id": "b62d6d8b",
   "metadata": {},
   "source": [
    "## 11. Write a program to find the common elements between two lists."
   ]
  },
  {
   "cell_type": "code",
   "execution_count": 11,
   "id": "4ffb0b60",
   "metadata": {},
   "outputs": [
    {
     "name": "stdout",
     "output_type": "stream",
     "text": [
      "Common elements: [4, 5]\n"
     ]
    }
   ],
   "source": [
    "def find_common_elements(list1, list2):\n",
    "    common_elements = []\n",
    "    for element in list1:\n",
    "        if element in list2 and element not in common_elements:\n",
    "            common_elements.append(element)\n",
    "    return common_elements\n",
    "\n",
    "# Example usage\n",
    "list1 = [1, 2, 3, 4, 5]\n",
    "list2 = [4, 5, 6, 7, 8]\n",
    "common_elements = find_common_elements(list1, list2)\n",
    "print(\"Common elements:\", common_elements)"
   ]
  },
  {
   "cell_type": "markdown",
   "id": "4c628afc",
   "metadata": {},
   "source": [
    "## 12. Implement a function to check if a given string is an anagram of another string."
   ]
  },
  {
   "cell_type": "code",
   "execution_count": 12,
   "id": "30abbb2d",
   "metadata": {},
   "outputs": [
    {
     "name": "stdout",
     "output_type": "stream",
     "text": [
      "Enter the first string: ParulVerma\n",
      "Enter the second string: AshutoshVerma\n",
      "The strings are not anagrams.\n"
     ]
    }
   ],
   "source": [
    "def is_anagram(string1, string2):\n",
    "    # Remove spaces and convert to lowercase\n",
    "    string1 = string1.replace(\" \", \"\").lower()\n",
    "    string2 = string2.replace(\" \", \"\").lower()\n",
    "\n",
    "    # Check if the sorted strings are equal\n",
    "    return sorted(string1) == sorted(string2)\n",
    "\n",
    "# Example usage\n",
    "input_string1 = input(\"Enter the first string: \")\n",
    "input_string2 = input(\"Enter the second string: \")\n",
    "if is_anagram(input_string1, input_string2):\n",
    "    print(\"The strings are anagrams.\")\n",
    "else:\n",
    "    print(\"The strings are not anagrams.\")"
   ]
  },
  {
   "cell_type": "markdown",
   "id": "1e6e4108",
   "metadata": {},
   "source": [
    "## 13. Write a Python program to generate all permutations of a given string."
   ]
  },
  {
   "cell_type": "code",
   "execution_count": 13,
   "id": "28f708c8",
   "metadata": {},
   "outputs": [
    {
     "name": "stdout",
     "output_type": "stream",
     "text": [
      "Enter a string: Apple\n",
      "Permutations:\n",
      "Apple\n",
      "Appel\n",
      "Aplpe\n",
      "Aplep\n",
      "Apepl\n",
      "Apelp\n",
      "Apple\n",
      "Appel\n",
      "Aplpe\n",
      "Aplep\n",
      "Apepl\n",
      "Apelp\n",
      "Alppe\n",
      "Alpep\n",
      "Alppe\n",
      "Alpep\n",
      "Alepp\n",
      "Alepp\n",
      "Aeppl\n",
      "Aeplp\n",
      "Aeppl\n",
      "Aeplp\n",
      "Aelpp\n",
      "Aelpp\n",
      "pAple\n",
      "pApel\n",
      "pAlpe\n",
      "pAlep\n",
      "pAepl\n",
      "pAelp\n",
      "ppAle\n",
      "ppAel\n",
      "pplAe\n",
      "ppleA\n",
      "ppeAl\n",
      "ppelA\n",
      "plApe\n",
      "plAep\n",
      "plpAe\n",
      "plpeA\n",
      "pleAp\n",
      "plepA\n",
      "peApl\n",
      "peAlp\n",
      "pepAl\n",
      "peplA\n",
      "pelAp\n",
      "pelpA\n",
      "pAple\n",
      "pApel\n",
      "pAlpe\n",
      "pAlep\n",
      "pAepl\n",
      "pAelp\n",
      "ppAle\n",
      "ppAel\n",
      "pplAe\n",
      "ppleA\n",
      "ppeAl\n",
      "ppelA\n",
      "plApe\n",
      "plAep\n",
      "plpAe\n",
      "plpeA\n",
      "pleAp\n",
      "plepA\n",
      "peApl\n",
      "peAlp\n",
      "pepAl\n",
      "peplA\n",
      "pelAp\n",
      "pelpA\n",
      "lAppe\n",
      "lApep\n",
      "lAppe\n",
      "lApep\n",
      "lAepp\n",
      "lAepp\n",
      "lpApe\n",
      "lpAep\n",
      "lppAe\n",
      "lppeA\n",
      "lpeAp\n",
      "lpepA\n",
      "lpApe\n",
      "lpAep\n",
      "lppAe\n",
      "lppeA\n",
      "lpeAp\n",
      "lpepA\n",
      "leApp\n",
      "leApp\n",
      "lepAp\n",
      "leppA\n",
      "lepAp\n",
      "leppA\n",
      "eAppl\n",
      "eAplp\n",
      "eAppl\n",
      "eAplp\n",
      "eAlpp\n",
      "eAlpp\n",
      "epApl\n",
      "epAlp\n",
      "eppAl\n",
      "epplA\n",
      "eplAp\n",
      "eplpA\n",
      "epApl\n",
      "epAlp\n",
      "eppAl\n",
      "epplA\n",
      "eplAp\n",
      "eplpA\n",
      "elApp\n",
      "elApp\n",
      "elpAp\n",
      "elppA\n",
      "elpAp\n",
      "elppA\n"
     ]
    }
   ],
   "source": [
    "def generate_permutations(string):\n",
    "    # Base case: If the string has only one character, return it as a single-item list\n",
    "    if len(string) == 1:\n",
    "        return [string]\n",
    "\n",
    "    # Recursive case: Generate permutations by selecting each character as the first character\n",
    "    permutations = []\n",
    "    for i in range(len(string)):\n",
    "        first_char = string[i]\n",
    "        remaining_chars = string[:i] + string[i+1:]\n",
    "        for perm in generate_permutations(remaining_chars):\n",
    "            permutations.append(first_char + perm)\n",
    "\n",
    "    return permutations\n",
    "\n",
    "# Example usage\n",
    "input_string = input(\"Enter a string: \")\n",
    "permutations = generate_permutations(input_string)\n",
    "print(\"Permutations:\")\n",
    "for perm in permutations:\n",
    "    print(perm)"
   ]
  },
  {
   "cell_type": "markdown",
   "id": "44667a25",
   "metadata": {},
   "source": [
    "## 14. Implement a function to calculate the Fibonacci sequence up to a given number of terms."
   ]
  },
  {
   "cell_type": "code",
   "execution_count": 14,
   "id": "3d66df65",
   "metadata": {},
   "outputs": [
    {
     "name": "stdout",
     "output_type": "stream",
     "text": [
      "Enter the number of terms: 16\n",
      "Fibonacci sequence up to 16 terms:\n",
      "[0, 1, 1, 2, 3, 5, 8, 13, 21, 34, 55, 89, 144, 233, 377, 610]\n"
     ]
    }
   ],
   "source": [
    "def calculate_fibonacci(n):\n",
    "    fibonacci_sequence = []\n",
    "    if n >= 1:\n",
    "        fibonacci_sequence.append(0)\n",
    "    if n >= 2:\n",
    "        fibonacci_sequence.append(1)\n",
    "\n",
    "    for i in range(2, n):\n",
    "        next_number = fibonacci_sequence[i-1] + fibonacci_sequence[i-2]\n",
    "        fibonacci_sequence.append(next_number)\n",
    "\n",
    "    return fibonacci_sequence\n",
    "\n",
    "# Example usage\n",
    "num_terms = int(input(\"Enter the number of terms: \"))\n",
    "fibonacci_sequence = calculate_fibonacci(num_terms)\n",
    "print(\"Fibonacci sequence up to\", num_terms, \"terms:\")\n",
    "print(fibonacci_sequence)"
   ]
  },
  {
   "cell_type": "markdown",
   "id": "a4454a18",
   "metadata": {},
   "source": [
    "## 15. Write a program to find the median of a list of numbers."
   ]
  },
  {
   "cell_type": "code",
   "execution_count": 15,
   "id": "3756e5a0",
   "metadata": {},
   "outputs": [
    {
     "name": "stdout",
     "output_type": "stream",
     "text": [
      "Median: 5\n"
     ]
    }
   ],
   "source": [
    "def find_median(lst):\n",
    "    sorted_list = sorted(lst)\n",
    "    n = len(sorted_list)\n",
    "    if n % 2 == 0:\n",
    "        # If the list has an even number of elements, take the average of the middle two\n",
    "        mid_right = n // 2\n",
    "        mid_left = mid_right - 1\n",
    "        median = (sorted_list[mid_left] + sorted_list[mid_right]) / 2\n",
    "    else:\n",
    "        # If the list has an odd number of elements, take the middle element\n",
    "        mid = n // 2\n",
    "        median = sorted_list[mid]\n",
    "    return median\n",
    "\n",
    "# Example usage\n",
    "input_list = [7, 2, 9, 1, 5]\n",
    "median = find_median(input_list)\n",
    "print(\"Median:\", median)"
   ]
  },
  {
   "cell_type": "markdown",
   "id": "be9c71c6",
   "metadata": {},
   "source": [
    "## 16. Implement a function to check if a given list is sorted in non-decreasing order."
   ]
  },
  {
   "cell_type": "code",
   "execution_count": 17,
   "id": "1a952cd2",
   "metadata": {},
   "outputs": [
    {
     "name": "stdout",
     "output_type": "stream",
     "text": [
      "The list is sorted in non-decreasing order.\n"
     ]
    }
   ],
   "source": [
    "def is_sorted(lst):\n",
    "    n = len(lst)\n",
    "    for i in range(1, n):\n",
    "        if lst[i] < lst[i - 1]:\n",
    "            return False\n",
    "    return True\n",
    "\n",
    "# Example usage\n",
    "input_list = [1, 2, 3, 4, 5]\n",
    "if is_sorted(input_list):\n",
    "    print(\"The list is sorted in non-decreasing order.\")\n",
    "else:\n",
    "    print(\"The list is not sorted in non-decreasing order.\")"
   ]
  },
  {
   "cell_type": "markdown",
   "id": "42b8f291",
   "metadata": {},
   "source": [
    "## 17. Write a Python program to find the intersection of two lists."
   ]
  },
  {
   "cell_type": "code",
   "execution_count": 18,
   "id": "0b2295cf",
   "metadata": {},
   "outputs": [
    {
     "name": "stdout",
     "output_type": "stream",
     "text": [
      "Intersection: [4, 5]\n"
     ]
    }
   ],
   "source": [
    "def find_intersection(list1, list2):\n",
    "    intersection = []\n",
    "    for element in list1:\n",
    "        if element in list2 and element not in intersection:\n",
    "            intersection.append(element)\n",
    "    return intersection\n",
    "\n",
    "# Example usage\n",
    "list1 = [1, 2, 3, 4, 5]\n",
    "list2 = [4, 5, 6, 7, 8]\n",
    "intersection = find_intersection(list1, list2)\n",
    "print(\"Intersection:\", intersection)"
   ]
  },
  {
   "cell_type": "markdown",
   "id": "4f495b7a",
   "metadata": {},
   "source": [
    "## 18. Implement a function to find the maximum subarray sum in a given list."
   ]
  },
  {
   "cell_type": "code",
   "execution_count": 19,
   "id": "8926f9eb",
   "metadata": {},
   "outputs": [
    {
     "name": "stdout",
     "output_type": "stream",
     "text": [
      "Maximum subarray sum: 6\n"
     ]
    }
   ],
   "source": [
    "def find_max_subarray_sum(lst):\n",
    "    if not lst:\n",
    "        return 0\n",
    "\n",
    "    max_sum = lst[0]\n",
    "    current_sum = lst[0]\n",
    "\n",
    "    for i in range(1, len(lst)):\n",
    "        current_sum = max(lst[i], current_sum + lst[i])\n",
    "        max_sum = max(max_sum, current_sum)\n",
    "\n",
    "    return max_sum\n",
    "\n",
    "# Example usage\n",
    "input_list = [-2, 1, -3, 4, -1, 2, 1, -5, 4]\n",
    "max_sum = find_max_subarray_sum(input_list)\n",
    "print(\"Maximum subarray sum:\", max_sum)"
   ]
  },
  {
   "cell_type": "markdown",
   "id": "b62ea2ad",
   "metadata": {},
   "source": [
    "## 19. Write a program to remove all vowels from a given string."
   ]
  },
  {
   "cell_type": "code",
   "execution_count": 20,
   "id": "9505875a",
   "metadata": {},
   "outputs": [
    {
     "name": "stdout",
     "output_type": "stream",
     "text": [
      "Enter a string: ParulVerma\n",
      "String without vowels: PrlVrm\n"
     ]
    }
   ],
   "source": [
    "def remove_vowels(string):\n",
    "    vowels = \"aeiouAEIOU\"\n",
    "    result = \"\"\n",
    "    for char in string:\n",
    "        if char not in vowels:\n",
    "            result += char\n",
    "    return result\n",
    "\n",
    "# Example usage\n",
    "input_string = input(\"Enter a string: \")\n",
    "string_without_vowels = remove_vowels(input_string)\n",
    "print(\"String without vowels:\", string_without_vowels)"
   ]
  },
  {
   "cell_type": "markdown",
   "id": "6864842d",
   "metadata": {},
   "source": [
    "## 20. Implement a function to reverse the order of words in a given sentence."
   ]
  },
  {
   "cell_type": "code",
   "execution_count": 21,
   "id": "3b37638f",
   "metadata": {},
   "outputs": [
    {
     "name": "stdout",
     "output_type": "stream",
     "text": [
      "Enter a sentence: My name is Parul Verma\n",
      "Reversed sentence: Verma Parul is name My\n"
     ]
    }
   ],
   "source": [
    "def reverse_sentence(sentence):\n",
    "    words = sentence.split()\n",
    "    reversed_words = words[::-1]\n",
    "    reversed_sentence = \" \".join(reversed_words)\n",
    "    return reversed_sentence\n",
    "\n",
    "# Example usage\n",
    "input_sentence = input(\"Enter a sentence: \")\n",
    "reversed_sentence = reverse_sentence(input_sentence)\n",
    "print(\"Reversed sentence:\", reversed_sentence)"
   ]
  },
  {
   "cell_type": "markdown",
   "id": "26921ed3",
   "metadata": {},
   "source": [
    "## 21. Write a Python program to check if two strings are anagrams of each other."
   ]
  },
  {
   "cell_type": "code",
   "execution_count": 22,
   "id": "7913abcc",
   "metadata": {},
   "outputs": [
    {
     "name": "stdout",
     "output_type": "stream",
     "text": [
      "Enter the first string: Parul\n",
      "Enter the second string: Verma\n",
      "The strings are not anagrams.\n"
     ]
    }
   ],
   "source": [
    "def are_anagrams(string1, string2):\n",
    "    # Remove spaces and convert to lowercase\n",
    "    string1 = string1.replace(\" \", \"\").lower()\n",
    "    string2 = string2.replace(\" \", \"\").lower()\n",
    "\n",
    "    # Check if the sorted strings are equal\n",
    "    return sorted(string1) == sorted(string2)\n",
    "\n",
    "# Example usage\n",
    "input_string1 = input(\"Enter the first string: \")\n",
    "input_string2 = input(\"Enter the second string: \")\n",
    "if are_anagrams(input_string1, input_string2):\n",
    "    print(\"The strings are anagrams.\")\n",
    "else:\n",
    "    print(\"The strings are not anagrams.\")"
   ]
  },
  {
   "cell_type": "markdown",
   "id": "46bb48d5",
   "metadata": {},
   "source": [
    "## 22. Implement a function to find the first non-repeating character in a string."
   ]
  },
  {
   "cell_type": "code",
   "execution_count": 23,
   "id": "4b5bd55f",
   "metadata": {},
   "outputs": [
    {
     "name": "stdout",
     "output_type": "stream",
     "text": [
      "Enter a string: Parul Verma\n",
      "First non-repeating character: P\n"
     ]
    }
   ],
   "source": [
    "def find_first_non_repeating_char(string):\n",
    "    char_count = {}\n",
    "    for char in string:\n",
    "        char_count[char] = char_count.get(char, 0) + 1\n",
    "\n",
    "    for char in string:\n",
    "        if char_count[char] == 1:\n",
    "            return char\n",
    "\n",
    "    return None\n",
    "\n",
    "# Example usage\n",
    "input_string = input(\"Enter a string: \")\n",
    "first_non_repeating_char = find_first_non_repeating_char(input_string)\n",
    "if first_non_repeating_char:\n",
    "    print(\"First non-repeating character:\", first_non_repeating_char)\n",
    "else:\n",
    "    print(\"No non-repeating character found.\")"
   ]
  },
  {
   "cell_type": "markdown",
   "id": "e45d5bf7",
   "metadata": {},
   "source": [
    "## 23. Write a program to find the prime factors of a given number."
   ]
  },
  {
   "cell_type": "code",
   "execution_count": 24,
   "id": "d79898fc",
   "metadata": {},
   "outputs": [
    {
     "name": "stdout",
     "output_type": "stream",
     "text": [
      "Enter a number: 25\n",
      "Prime factors: [5, 5]\n"
     ]
    }
   ],
   "source": [
    "def find_prime_factors(number):\n",
    "    prime_factors = []\n",
    "    divisor = 2\n",
    "\n",
    "    while divisor <= number:\n",
    "        if number % divisor == 0:\n",
    "            prime_factors.append(divisor)\n",
    "            number //= divisor\n",
    "        else:\n",
    "            divisor += 1\n",
    "\n",
    "    return prime_factors\n",
    "\n",
    "# Example usage\n",
    "input_number = int(input(\"Enter a number: \"))\n",
    "prime_factors = find_prime_factors(input_number)\n",
    "print(\"Prime factors:\", prime_factors)"
   ]
  },
  {
   "cell_type": "markdown",
   "id": "3d02439f",
   "metadata": {},
   "source": [
    "## 24. Implement a function to check if a given number is a power of two."
   ]
  },
  {
   "cell_type": "code",
   "execution_count": 25,
   "id": "81f8e12e",
   "metadata": {},
   "outputs": [
    {
     "name": "stdout",
     "output_type": "stream",
     "text": [
      "Enter a number: 64\n",
      "The number is a power of two.\n"
     ]
    }
   ],
   "source": [
    "def is_power_of_two(number):\n",
    "    if number <= 0:\n",
    "        return False\n",
    "    return (number & (number - 1)) == 0\n",
    "\n",
    "# Example usage\n",
    "input_number = int(input(\"Enter a number: \"))\n",
    "if is_power_of_two(input_number):\n",
    "    print(\"The number is a power of two.\")\n",
    "else:\n",
    "    print(\"The number is not a power of two.\")"
   ]
  },
  {
   "cell_type": "markdown",
   "id": "53405201",
   "metadata": {},
   "source": [
    "## 25. Write a Python program to merge two sorted lists into a single sorted list."
   ]
  },
  {
   "cell_type": "code",
   "execution_count": 26,
   "id": "4993960e",
   "metadata": {},
   "outputs": [
    {
     "name": "stdout",
     "output_type": "stream",
     "text": [
      "Merged list: [1, 2, 3, 4, 5, 6, 7, 8]\n"
     ]
    }
   ],
   "source": [
    "def merge_sorted_lists(list1, list2):\n",
    "    merged_list = []\n",
    "    i, j = 0, 0\n",
    "\n",
    "    while i < len(list1) and j < len(list2):\n",
    "        if list1[i] < list2[j]:\n",
    "            merged_list.append(list1[i])\n",
    "            i += 1\n",
    "        else:\n",
    "            merged_list.append(list2[j])\n",
    "            j += 1\n",
    "\n",
    "    # Add remaining elements from list1, if any\n",
    "    while i < len(list1):\n",
    "        merged_list.append(list1[i])\n",
    "        i += 1\n",
    "\n",
    "    # Add remaining elements from list2, if any\n",
    "    while j < len(list2):\n",
    "        merged_list.append(list2[j])\n",
    "        j += 1\n",
    "\n",
    "    return merged_list\n",
    "\n",
    "# Example usage\n",
    "list1 = [1, 4, 6, 8]\n",
    "list2 = [2, 3, 5, 7]\n",
    "merged_list = merge_sorted_lists(list1, list2)\n",
    "print(\"Merged list:\", merged_list)"
   ]
  },
  {
   "cell_type": "markdown",
   "id": "b3327261",
   "metadata": {},
   "source": [
    "## 26. Implement a function to find the mode of a list of numbers."
   ]
  },
  {
   "cell_type": "code",
   "execution_count": 28,
   "id": "7f466263",
   "metadata": {},
   "outputs": [
    {
     "name": "stdout",
     "output_type": "stream",
     "text": [
      "Enter a list of numbers, separated by spaces: 3 6 4 6 4 7 9\n",
      "Mode: 6\n"
     ]
    }
   ],
   "source": [
    "from collections import Counter\n",
    "\n",
    "def find_mode(numbers):\n",
    "    frequency_counter = Counter(numbers)\n",
    "    mode = frequency_counter.most_common(1)[0][0]\n",
    "    return mode\n",
    "\n",
    "# Example usage\n",
    "input_numbers = input(\"Enter a list of numbers, separated by spaces: \").split()\n",
    "numbers = [int(num) for num in input_numbers]\n",
    "mode = find_mode(numbers)\n",
    "print(\"Mode:\", mode)"
   ]
  },
  {
   "cell_type": "markdown",
   "id": "c32a24a9",
   "metadata": {},
   "source": [
    "## 27. Write a program to find the greatest common divisor (GCD) of two numbers."
   ]
  },
  {
   "cell_type": "code",
   "execution_count": 29,
   "id": "59268122",
   "metadata": {},
   "outputs": [
    {
     "name": "stdout",
     "output_type": "stream",
     "text": [
      "Enter the first number: 3\n",
      "Enter the second number: 6\n",
      "GCD: 3\n"
     ]
    }
   ],
   "source": [
    "def find_gcd(a, b):\n",
    "    while b != 0:\n",
    "        a, b = b, a % b\n",
    "    return a\n",
    "\n",
    "# Example usage\n",
    "input_a = int(input(\"Enter the first number: \"))\n",
    "input_b = int(input(\"Enter the second number: \"))\n",
    "gcd = find_gcd(input_a, input_b)\n",
    "print(\"GCD:\", gcd)"
   ]
  },
  {
   "cell_type": "markdown",
   "id": "2e10d7a0",
   "metadata": {},
   "source": [
    "## 28. Implement a function to calculate the square root of a given number."
   ]
  },
  {
   "cell_type": "code",
   "execution_count": 30,
   "id": "2ad04804",
   "metadata": {},
   "outputs": [
    {
     "name": "stdout",
     "output_type": "stream",
     "text": [
      "Enter a number: 4586\n",
      "Square root: 67.72001181335791\n"
     ]
    }
   ],
   "source": [
    "def square_root(number, epsilon=1e-6):\n",
    "    if number < 0:\n",
    "        raise ValueError(\"Square root is not defined for negative numbers.\")\n",
    "\n",
    "    guess = number / 2  # Initial guess\n",
    "    while abs(guess * guess - number) > epsilon:\n",
    "        guess = (guess + number / guess) / 2\n",
    "\n",
    "    return guess\n",
    "\n",
    "# Example usage\n",
    "input_number = float(input(\"Enter a number: \"))\n",
    "sqrt = square_root(input_number)\n",
    "print(\"Square root:\", sqrt)"
   ]
  },
  {
   "cell_type": "markdown",
   "id": "748661ea",
   "metadata": {},
   "source": [
    "## 29. Write a Python program to check if a given string is a valid palindrome ignoring non-alphanumeric characters."
   ]
  },
  {
   "cell_type": "code",
   "execution_count": 31,
   "id": "e75e4a9d",
   "metadata": {},
   "outputs": [
    {
     "name": "stdout",
     "output_type": "stream",
     "text": [
      "Enter a string: home46ismine\n",
      "The string is not a valid palindrome.\n"
     ]
    }
   ],
   "source": [
    "import re\n",
    "\n",
    "def is_valid_palindrome(string):\n",
    "    # Remove non-alphanumeric characters and convert to lowercase\n",
    "    alphanumeric_string = re.sub(r'[^a-zA-Z0-9]', '', string).lower()\n",
    "\n",
    "    # Check if the alphanumeric string is a palindrome\n",
    "    return alphanumeric_string == alphanumeric_string[::-1]\n",
    "\n",
    "# Example usage\n",
    "input_string = input(\"Enter a string: \")\n",
    "if is_valid_palindrome(input_string):\n",
    "    print(\"The string is a valid palindrome.\")\n",
    "else:\n",
    "    print(\"The string is not a valid palindrome.\")"
   ]
  },
  {
   "cell_type": "markdown",
   "id": "61af67f3",
   "metadata": {},
   "source": [
    "## 30. Implement a function to find the minimum element in a rotated sorted list."
   ]
  },
  {
   "cell_type": "code",
   "execution_count": 32,
   "id": "84f53b27",
   "metadata": {},
   "outputs": [
    {
     "name": "stdout",
     "output_type": "stream",
     "text": [
      "Minimum element: 1\n"
     ]
    }
   ],
   "source": [
    "def find_minimum_element(rotated_list):\n",
    "    left = 0\n",
    "    right = len(rotated_list) - 1\n",
    "\n",
    "    # If the list is not rotated, the first element is the minimum\n",
    "    if rotated_list[left] <= rotated_list[right]:\n",
    "        return rotated_list[left]\n",
    "\n",
    "    while left < right:\n",
    "        mid = (left + right) // 2\n",
    "\n",
    "        # Check if mid is the minimum element\n",
    "        if rotated_list[mid] > rotated_list[mid + 1]:\n",
    "            return rotated_list[mid + 1]\n",
    "\n",
    "        # Check if mid - 1 is the minimum element\n",
    "        if rotated_list[mid - 1] > rotated_list[mid]:\n",
    "            return rotated_list[mid]\n",
    "\n",
    "        # Adjust left and right pointers\n",
    "        if rotated_list[mid] > rotated_list[right]:\n",
    "            left = mid + 1\n",
    "        else:\n",
    "            right = mid - 1\n",
    "\n",
    "    # If left and right pointers converge, return the element at that position\n",
    "    return rotated_list[left]\n",
    "\n",
    "# Example usage\n",
    "rotated_list = [5, 6, 7, 8, 9, 10, 1, 2, 3, 4]\n",
    "minimum_element = find_minimum_element(rotated_list)\n",
    "print(\"Minimum element:\", minimum_element)"
   ]
  },
  {
   "cell_type": "markdown",
   "id": "c38a1b29",
   "metadata": {},
   "source": [
    "## 31. Write a program to find the sum of all even numbers in a list."
   ]
  },
  {
   "cell_type": "code",
   "execution_count": 1,
   "id": "626a0eb1",
   "metadata": {},
   "outputs": [
    {
     "name": "stdout",
     "output_type": "stream",
     "text": [
      "Enter a list of numbers, separated by spaces: 2 5 3 9 6 21 56\n",
      "Sum of even numbers: 64\n"
     ]
    }
   ],
   "source": [
    "def sum_of_even_numbers(numbers):\n",
    "    sum_even = 0\n",
    "    for num in numbers:\n",
    "        if num % 2 == 0:\n",
    "            sum_even += num\n",
    "    return sum_even\n",
    "\n",
    "# Example usage\n",
    "input_numbers = input(\"Enter a list of numbers, separated by spaces: \").split()\n",
    "numbers = [int(num) for num in input_numbers]\n",
    "sum_even = sum_of_even_numbers(numbers)\n",
    "print(\"Sum of even numbers:\", sum_even)"
   ]
  },
  {
   "cell_type": "markdown",
   "id": "6dd723ef",
   "metadata": {},
   "source": [
    "## 32. Implement a function to calculate the power of a number using recursion."
   ]
  },
  {
   "cell_type": "code",
   "execution_count": 2,
   "id": "85be7c6c",
   "metadata": {},
   "outputs": [
    {
     "name": "stdout",
     "output_type": "stream",
     "text": [
      "Enter the base number: 45\n",
      "Enter the exponent: 4\n",
      "Result: 4100625.0\n"
     ]
    }
   ],
   "source": [
    "def power(base, exponent):\n",
    "    if exponent == 0:\n",
    "        return 1\n",
    "    elif exponent > 0:\n",
    "        return base * power(base, exponent - 1)\n",
    "    else:\n",
    "        return 1 / power(base, -exponent)\n",
    "\n",
    "# Example usage\n",
    "input_base = float(input(\"Enter the base number: \"))\n",
    "input_exponent = int(input(\"Enter the exponent: \"))\n",
    "result = power(input_base, input_exponent)\n",
    "print(\"Result:\", result)"
   ]
  },
  {
   "cell_type": "markdown",
   "id": "24e25b60",
   "metadata": {},
   "source": [
    "## 33. Write a Python program to remove duplicates from a list while preserving the order."
   ]
  },
  {
   "cell_type": "code",
   "execution_count": 3,
   "id": "d085e9f7",
   "metadata": {},
   "outputs": [
    {
     "name": "stdout",
     "output_type": "stream",
     "text": [
      "Enter a list of items, separated by spaces: 3 6 22 5 33 77 4 \n",
      "List with duplicates removed: ['3', '6', '22', '5', '33', '77', '4']\n"
     ]
    }
   ],
   "source": [
    "def remove_duplicates(lst):\n",
    "    unique_lst = []\n",
    "    for item in lst:\n",
    "        if item not in unique_lst:\n",
    "            unique_lst.append(item)\n",
    "    return unique_lst\n",
    "\n",
    "# Example usage\n",
    "input_list = input(\"Enter a list of items, separated by spaces: \").split()\n",
    "unique_list = remove_duplicates(input_list)\n",
    "print(\"List with duplicates removed:\", unique_list)"
   ]
  },
  {
   "cell_type": "markdown",
   "id": "47b097d5",
   "metadata": {},
   "source": [
    "## 34. Implement a function to find the longest common prefix among a list of strings."
   ]
  },
  {
   "cell_type": "code",
   "execution_count": 8,
   "id": "70ee2597",
   "metadata": {},
   "outputs": [
    {
     "name": "stdout",
     "output_type": "stream",
     "text": [
      "Enter a list of strings, separated by spaces: geo-polity geo-graphy\n",
      "Longest common prefix: geo-\n"
     ]
    }
   ],
   "source": [
    "def longest_common_prefix(strs):\n",
    "    if not strs:\n",
    "        return \"\"\n",
    "\n",
    "    prefix = \"\"\n",
    "    min_length = min(len(s) for s in strs)\n",
    "\n",
    "    for i in range(min_length):\n",
    "        char = strs[0][i]\n",
    "        if all(s[i] == char for s in strs):\n",
    "            prefix += char\n",
    "        else:\n",
    "            break\n",
    "\n",
    "    return prefix\n",
    "\n",
    "# Example usage\n",
    "input_list = input(\"Enter a list of strings, separated by spaces: \").split()\n",
    "common_prefix = longest_common_prefix(input_list)\n",
    "print(\"Longest common prefix:\", common_prefix)"
   ]
  },
  {
   "cell_type": "markdown",
   "id": "d94a4f88",
   "metadata": {},
   "source": [
    "## 35. Write a program to check if a given number is a perfect square."
   ]
  },
  {
   "cell_type": "code",
   "execution_count": 9,
   "id": "dade4a67",
   "metadata": {},
   "outputs": [
    {
     "name": "stdout",
     "output_type": "stream",
     "text": [
      "Enter a number: 44\n",
      "The number is not a perfect square.\n"
     ]
    }
   ],
   "source": [
    "def is_perfect_square(num):\n",
    "    if num < 0:\n",
    "        return False\n",
    "    elif num == 0:\n",
    "        return True\n",
    "\n",
    "    i = 1\n",
    "    while i * i <= num:\n",
    "        if i * i == num:\n",
    "            return True\n",
    "        i += 1\n",
    "\n",
    "    return False\n",
    "\n",
    "# Example usage\n",
    "input_num = int(input(\"Enter a number: \"))\n",
    "if is_perfect_square(input_num):\n",
    "    print(\"The number is a perfect square.\")\n",
    "else:\n",
    "    print(\"The number is not a perfect square.\")"
   ]
  },
  {
   "cell_type": "markdown",
   "id": "caa35e39",
   "metadata": {},
   "source": [
    "## 36. Implement a function to calculate the product of all elements in a list."
   ]
  },
  {
   "cell_type": "code",
   "execution_count": 10,
   "id": "6ceb8947",
   "metadata": {},
   "outputs": [
    {
     "name": "stdout",
     "output_type": "stream",
     "text": [
      "Enter a list of numbers, separated by spaces: 3 6 9 12 18\n",
      "Product of all elements: 34992\n"
     ]
    }
   ],
   "source": [
    "def calculate_product(lst):\n",
    "    product = 1\n",
    "    for num in lst:\n",
    "        product *= num\n",
    "    return product\n",
    "\n",
    "# Example usage\n",
    "input_list = input(\"Enter a list of numbers, separated by spaces: \").split()\n",
    "numbers = [int(num) for num in input_list]\n",
    "product = calculate_product(numbers)\n",
    "print(\"Product of all elements:\", product)"
   ]
  },
  {
   "cell_type": "markdown",
   "id": "05722012",
   "metadata": {},
   "source": [
    "## 37. Write a Python program to reverse the order of words in a sentence while preserving the word order."
   ]
  },
  {
   "cell_type": "code",
   "execution_count": 11,
   "id": "3436ae11",
   "metadata": {},
   "outputs": [
    {
     "name": "stdout",
     "output_type": "stream",
     "text": [
      "Enter a sentence: she is the best coder \n",
      "Reversed sentence: coder best the is she\n"
     ]
    }
   ],
   "source": [
    "def reverse_words(sentence):\n",
    "    words = sentence.split()\n",
    "    reversed_sentence = \" \".join(words[::-1])\n",
    "    return reversed_sentence\n",
    "\n",
    "# Example usage\n",
    "input_sentence = input(\"Enter a sentence: \")\n",
    "reversed_sentence = reverse_words(input_sentence)\n",
    "print(\"Reversed sentence:\", reversed_sentence)"
   ]
  },
  {
   "cell_type": "markdown",
   "id": "1b5d266c",
   "metadata": {},
   "source": [
    "## 38. Implement a function to find the missing number in a given list of consecutive numbers."
   ]
  },
  {
   "cell_type": "code",
   "execution_count": 14,
   "id": "bfc74e30",
   "metadata": {},
   "outputs": [
    {
     "name": "stdout",
     "output_type": "stream",
     "text": [
      "Enter a list of consecutive numbers, separated by spaces: 1 2 3 4  6 7 8 9\n",
      "Missing number: 5\n"
     ]
    }
   ],
   "source": [
    "def find_missing_number(lst):\n",
    "    n = len(lst) + 1\n",
    "    expected_sum = (n * (n + 1)) // 2\n",
    "    actual_sum = sum(lst)\n",
    "    missing_number = expected_sum - actual_sum\n",
    "    return missing_number\n",
    "\n",
    "# Example usage\n",
    "input_list = input(\"Enter a list of consecutive numbers, separated by spaces: \").split()\n",
    "numbers = [int(num) for num in input_list]\n",
    "missing_number = find_missing_number(numbers)\n",
    "print(\"Missing number:\", missing_number)"
   ]
  },
  {
   "cell_type": "markdown",
   "id": "26ea55c0",
   "metadata": {},
   "source": [
    "## 39. Write a program to find the sum of digits of a given number."
   ]
  },
  {
   "cell_type": "code",
   "execution_count": 15,
   "id": "ea4b2643",
   "metadata": {},
   "outputs": [
    {
     "name": "stdout",
     "output_type": "stream",
     "text": [
      "Enter a number: 567\n",
      "Sum of digits: 18\n"
     ]
    }
   ],
   "source": [
    "def sum_of_digits(number):\n",
    "    sum = 0\n",
    "    while number > 0:\n",
    "        digit = number % 10\n",
    "        sum += digit\n",
    "        number //= 10\n",
    "    return sum\n",
    "\n",
    "# Example usage\n",
    "input_number = int(input(\"Enter a number: \"))\n",
    "digit_sum = sum_of_digits(input_number)\n",
    "print(\"Sum of digits:\", digit_sum)"
   ]
  },
  {
   "cell_type": "markdown",
   "id": "aa028afb",
   "metadata": {},
   "source": [
    "## 40. Implement a function to check if a given string is a valid palindrome considering case sensitivity."
   ]
  },
  {
   "cell_type": "code",
   "execution_count": 16,
   "id": "e4099237",
   "metadata": {},
   "outputs": [
    {
     "name": "stdout",
     "output_type": "stream",
     "text": [
      "Enter a string: abcdedcba\n",
      "The string is a valid palindrome.\n"
     ]
    }
   ],
   "source": [
    "def is_valid_palindrome(string):\n",
    "    # Remove non-alphanumeric characters and convert to lowercase\n",
    "    string = ''.join(ch.lower() for ch in string if ch.isalnum())\n",
    "\n",
    "    # Check if the string is equal to its reverse\n",
    "    return string == string[::-1]\n",
    "\n",
    "# Example usage\n",
    "input_string = input(\"Enter a string: \")\n",
    "if is_valid_palindrome(input_string):\n",
    "    print(\"The string is a valid palindrome.\")\n",
    "else:\n",
    "    print(\"The string is not a valid palindrome.\")"
   ]
  },
  {
   "cell_type": "markdown",
   "id": "2ddad734",
   "metadata": {},
   "source": [
    "## 41. Write a Python program to find the smallest missing positive integer in a list."
   ]
  },
  {
   "cell_type": "code",
   "execution_count": 17,
   "id": "04435e27",
   "metadata": {},
   "outputs": [
    {
     "name": "stdout",
     "output_type": "stream",
     "text": [
      "Enter a list of integers, separated by spaces: 3 4 5 7 8 9\n",
      "Smallest missing positive integer: 1\n"
     ]
    }
   ],
   "source": [
    "def find_smallest_missing_positive(lst):\n",
    "    n = len(lst)\n",
    "\n",
    "    # Step 1: Move all positive integers to the left side\n",
    "    positive_idx = 0\n",
    "    for i in range(n):\n",
    "        if lst[i] > 0:\n",
    "            lst[i], lst[positive_idx] = lst[positive_idx], lst[i]\n",
    "            positive_idx += 1\n",
    "\n",
    "    # Step 2: Mark the presence of positive integers using indices\n",
    "    for i in range(positive_idx):\n",
    "        num = abs(lst[i])\n",
    "        if num <= positive_idx:\n",
    "            lst[num - 1] = -abs(lst[num - 1])\n",
    "\n",
    "    # Step 3: Find the first index with a positive number\n",
    "    for i in range(positive_idx):\n",
    "        if lst[i] > 0:\n",
    "            return i + 1\n",
    "\n",
    "    # Step 4: All positive integers from 1 to positive_idx are present\n",
    "    return positive_idx + 1\n",
    "\n",
    "# Example usage\n",
    "input_list = input(\"Enter a list of integers, separated by spaces: \").split()\n",
    "numbers = [int(num) for num in input_list]\n",
    "missing_number = find_smallest_missing_positive(numbers)\n",
    "print(\"Smallest missing positive integer:\", missing_number)"
   ]
  },
  {
   "cell_type": "markdown",
   "id": "00cae93a",
   "metadata": {},
   "source": [
    "## 42. Implement a function to find the longest palindrome substring in a given string."
   ]
  },
  {
   "cell_type": "code",
   "execution_count": 18,
   "id": "28cf7dd5",
   "metadata": {},
   "outputs": [
    {
     "name": "stdout",
     "output_type": "stream",
     "text": [
      "Enter a string: sheismissim\n",
      "Longest palindrome substring: missim\n"
     ]
    }
   ],
   "source": [
    "def longest_palindrome_substring(string):\n",
    "    n = len(string)\n",
    "    max_length = 0\n",
    "    start_index = 0\n",
    "\n",
    "    # Function to expand around a center character\n",
    "    def expand_around_center(left, right):\n",
    "        nonlocal max_length, start_index\n",
    "        while left >= 0 and right < n and string[left] == string[right]:\n",
    "            left -= 1\n",
    "            right += 1\n",
    "\n",
    "        length = right - left - 1\n",
    "        if length > max_length:\n",
    "            max_length = length\n",
    "            start_index = left + 1\n",
    "\n",
    "    # Iterate through each character as a potential center\n",
    "    for i in range(n):\n",
    "        expand_around_center(i, i)   # Case for odd-length palindromes\n",
    "        expand_around_center(i, i+1) # Case for even-length palindromes\n",
    "\n",
    "    return string[start_index:start_index+max_length]\n",
    "\n",
    "# Example usage\n",
    "input_string = input(\"Enter a string: \")\n",
    "longest_palindrome = longest_palindrome_substring(input_string)\n",
    "print(\"Longest palindrome substring:\", longest_palindrome)"
   ]
  },
  {
   "cell_type": "markdown",
   "id": "80a40030",
   "metadata": {},
   "source": [
    "## 43. Write a program to find the number of occurrences of a given element in a list."
   ]
  },
  {
   "cell_type": "code",
   "execution_count": 19,
   "id": "9e54c484",
   "metadata": {},
   "outputs": [
    {
     "name": "stdout",
     "output_type": "stream",
     "text": [
      "Enter a list of elements, separated by spaces: 3 5 3 3 23 6 7 4 4 3 5\n",
      "Enter the element to count occurrences: 3\n",
      "Number of occurrences: 4\n"
     ]
    }
   ],
   "source": [
    "def count_occurrences(lst, element):\n",
    "    count = 0\n",
    "    for item in lst:\n",
    "        if item == element:\n",
    "            count += 1\n",
    "    return count\n",
    "\n",
    "# Example usage\n",
    "input_list = input(\"Enter a list of elements, separated by spaces: \").split()\n",
    "elements = [int(e) for e in input_list]\n",
    "target_element = int(input(\"Enter the element to count occurrences: \"))\n",
    "occurrence_count = count_occurrences(elements, target_element)\n",
    "print(\"Number of occurrences:\", occurrence_count)"
   ]
  },
  {
   "cell_type": "markdown",
   "id": "21c1851e",
   "metadata": {},
   "source": [
    "## 44. Implement a function to check if a given number is a perfect number."
   ]
  },
  {
   "cell_type": "code",
   "execution_count": 20,
   "id": "fda5bd58",
   "metadata": {},
   "outputs": [
    {
     "name": "stdout",
     "output_type": "stream",
     "text": [
      "Enter a number: 496\n",
      "The number is a perfect number.\n"
     ]
    }
   ],
   "source": [
    "def is_perfect_number(number):\n",
    "    if number <= 0:\n",
    "        return False\n",
    "\n",
    "    divisors = []\n",
    "    for i in range(1, number):\n",
    "        if number % i == 0:\n",
    "            divisors.append(i)\n",
    "\n",
    "    divisor_sum = sum(divisors)\n",
    "    return divisor_sum == number\n",
    "\n",
    "# Example usage\n",
    "input_number = int(input(\"Enter a number: \"))\n",
    "if is_perfect_number(input_number):\n",
    "    print(\"The number is a perfect number.\")\n",
    "else:\n",
    "    print(\"The number is not a perfect number.\")"
   ]
  },
  {
   "cell_type": "markdown",
   "id": "a3bca054",
   "metadata": {},
   "source": [
    "## 45. Write a Python program to remove all duplicates from a string."
   ]
  },
  {
   "cell_type": "code",
   "execution_count": 21,
   "id": "93349e94",
   "metadata": {},
   "outputs": [
    {
     "name": "stdout",
     "output_type": "stream",
     "text": [
      "Enter a string: Sheisaprogrammer\n",
      "String without duplicates: Sheisaprogm\n"
     ]
    }
   ],
   "source": [
    "def remove_duplicates(string):\n",
    "    unique_chars = []\n",
    "    for char in string:\n",
    "        if char not in unique_chars:\n",
    "            unique_chars.append(char)\n",
    "\n",
    "    return ''.join(unique_chars)\n",
    "\n",
    "# Example usage\n",
    "input_string = input(\"Enter a string: \")\n",
    "string_without_duplicates = remove_duplicates(input_string)\n",
    "print(\"String without duplicates:\", string_without_duplicates)"
   ]
  },
  {
   "cell_type": "markdown",
   "id": "77d684be",
   "metadata": {},
   "source": [
    "## 46. Implement a function to find the first missing positive"
   ]
  },
  {
   "cell_type": "code",
   "execution_count": 22,
   "id": "562ca140",
   "metadata": {},
   "outputs": [
    {
     "name": "stdout",
     "output_type": "stream",
     "text": [
      "Enter a list of integers, separated by spaces: 1 2 4 5 6 8 9\n",
      "First missing positive: 3\n"
     ]
    }
   ],
   "source": [
    "def find_first_missing_positive(nums):\n",
    "    n = len(nums)\n",
    "\n",
    "    # Step 1: Move all positive integers to their corresponding indices\n",
    "    for i in range(n):\n",
    "        while 1 <= nums[i] <= n and nums[nums[i] - 1] != nums[i]:\n",
    "            nums[nums[i] - 1], nums[i] = nums[i], nums[nums[i] - 1]\n",
    "\n",
    "    # Step 2: Find the first index that does not have the correct number\n",
    "    for i in range(n):\n",
    "        if nums[i] != i + 1:\n",
    "            return i + 1\n",
    "\n",
    "    # Step 3: All indices have the correct number, so the next missing positive is n + 1\n",
    "    return n + 1\n",
    "\n",
    "# Example usage\n",
    "input_list = input(\"Enter a list of integers, separated by spaces: \").split()\n",
    "nums = [int(num) for num in input_list]\n",
    "missing_positive = find_first_missing_positive(nums)\n",
    "print(\"First missing positive:\", missing_positive)"
   ]
  }
 ],
 "metadata": {
  "kernelspec": {
   "display_name": "Python 3 (ipykernel)",
   "language": "python",
   "name": "python3"
  },
  "language_info": {
   "codemirror_mode": {
    "name": "ipython",
    "version": 3
   },
   "file_extension": ".py",
   "mimetype": "text/x-python",
   "name": "python",
   "nbconvert_exporter": "python",
   "pygments_lexer": "ipython3",
   "version": "3.9.13"
  }
 },
 "nbformat": 4,
 "nbformat_minor": 5
}
